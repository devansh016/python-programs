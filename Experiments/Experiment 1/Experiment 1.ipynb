{
  "nbformat": 4,
  "nbformat_minor": 0,
  "metadata": {
    "colab": {
      "name": "Experiment 1.ipynb",
      "provenance": [],
      "collapsed_sections": []
    },
    "kernelspec": {
      "name": "python3",
      "display_name": "Python 3"
    },
    "language_info": {
      "name": "python"
    }
  },
  "cells": [
    {
      "cell_type": "markdown",
      "metadata": {
        "id": "eI-8Sv4OblG-"
      },
      "source": [
        "Q1. Write a Python program to get the Python version you are using."
      ]
    },
    {
      "cell_type": "code",
      "metadata": {
        "colab": {
          "base_uri": "https://localhost:8080/"
        },
        "id": "yWtBdP3iajkX",
        "outputId": "0b6b31ea-3011-4d8a-bba6-87f4087fe8aa"
      },
      "source": [
        "import sys\n",
        "print(sys.version)"
      ],
      "execution_count": null,
      "outputs": [
        {
          "output_type": "stream",
          "text": [
            "3.7.11 (default, Jul  3 2021, 18:01:19) \n",
            "[GCC 7.5.0]\n"
          ],
          "name": "stdout"
        }
      ]
    },
    {
      "cell_type": "markdown",
      "metadata": {
        "id": "kHdedj5WbrcV"
      },
      "source": [
        "Q2. Write a Python program which accepts the radius of a circle from the user and compute the area."
      ]
    },
    {
      "cell_type": "code",
      "metadata": {
        "colab": {
          "base_uri": "https://localhost:8080/"
        },
        "id": "TRYSM5-ibC0X",
        "outputId": "ded286e7-6eaf-4db2-f72a-e67b3a4a2318"
      },
      "source": [
        "import math;\n",
        "pi = math.pi\n",
        "\n",
        "print(\"Enter radius of circle: \")\n",
        "radius = float(input())\n",
        "\n",
        "print(\"Area of circle with radius \" + str(radius) + \" is: \" + str(pi*radius*radius))"
      ],
      "execution_count": null,
      "outputs": [
        {
          "output_type": "stream",
          "text": [
            "Enter radius of circle: \n",
            "2\n",
            "Area of circle with radius 2.0 is: 12.566370614359172\n"
          ],
          "name": "stdout"
        }
      ]
    }
  ]
}
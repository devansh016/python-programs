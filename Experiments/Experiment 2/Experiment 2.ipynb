{
  "nbformat": 4,
  "nbformat_minor": 0,
  "metadata": {
    "colab": {
      "name": "Experiment 2.ipynb",
      "provenance": []
    },
    "kernelspec": {
      "name": "python3",
      "display_name": "Python 3"
    },
    "language_info": {
      "name": "python"
    }
  },
  "cells": [
    {
      "cell_type": "markdown",
      "metadata": {
        "id": "a7jh_x2B4Nkf"
      },
      "source": [
        "Q1. Write a Python program to display the current date and time."
      ]
    },
    {
      "cell_type": "code",
      "metadata": {
        "colab": {
          "base_uri": "https://localhost:8080/"
        },
        "id": "5PrA8lBBtLVX",
        "outputId": "462de7c8-6a58-4da2-aa5a-70098175a777"
      },
      "source": [
        "import datetime\n",
        "c = datetime.datetime.now()\n",
        "\n",
        "print(c.strftime(\"%m %b %Y\"))\n",
        "print(c.strftime(\"%H:%M:%S %p\"))"
      ],
      "execution_count": null,
      "outputs": [
        {
          "output_type": "stream",
          "text": [
            "08 Aug 2021\n",
            "10:37:55 AM\n"
          ],
          "name": "stdout"
        }
      ]
    },
    {
      "cell_type": "markdown",
      "metadata": {
        "id": "SwTU4IKe43KA"
      },
      "source": [
        "  Q2. Write a Python program which accepts the radius of a circle from the user and compute the circumference."
      ]
    },
    {
      "cell_type": "code",
      "metadata": {
        "colab": {
          "base_uri": "https://localhost:8080/"
        },
        "id": "3uY4D-Jj5F7Y",
        "outputId": "503df3e2-3341-4afb-9d75-c6c0a33d66a6"
      },
      "source": [
        "import math;\n",
        "pi = math.pi\n",
        "\n",
        "print(\"Enter radius of circle: \")\n",
        "radius = float(input())\n",
        "\n",
        "print(\"Circumference of circle with radius \" + str(radius) + \" is: \" + str(2*pi*radius))"
      ],
      "execution_count": null,
      "outputs": [
        {
          "output_type": "stream",
          "text": [
            "Enter radius of circle: \n",
            "10\n",
            "Circumference of circle with radius 10.0 is: 62.83185307179586\n"
          ],
          "name": "stdout"
        }
      ]
    }
  ]
}
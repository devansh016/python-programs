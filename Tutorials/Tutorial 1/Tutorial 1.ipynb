{
  "nbformat": 4,
  "nbformat_minor": 0,
  "metadata": {
    "colab": {
      "name": "Tutorial 1.ipynb",
      "provenance": [],
      "collapsed_sections": []
    },
    "kernelspec": {
      "name": "python3",
      "display_name": "Python 3"
    },
    "language_info": {
      "name": "python"
    }
  },
  "cells": [
    {
      "cell_type": "markdown",
      "metadata": {
        "id": "JooxdXNMtAeB"
      },
      "source": [
        "Devansh Chaudhary\n",
        "\n",
        "Roll No: 201461"
      ]
    },
    {
      "cell_type": "markdown",
      "metadata": {
        "id": "XuVL3aZMpl4g"
      },
      "source": [
        "Exercise 2.2"
      ]
    },
    {
      "cell_type": "code",
      "metadata": {
        "id": "w_Cv9Xflo8z6"
      },
      "source": [
        "width = 17\n",
        "height = 12.0\n",
        "delimeter = '.'"
      ],
      "execution_count": null,
      "outputs": []
    },
    {
      "cell_type": "code",
      "metadata": {
        "colab": {
          "base_uri": "https://localhost:8080/"
        },
        "id": "8hvQ61I1pMEe",
        "outputId": "22154078-43b7-49a1-f315-1deaa0f9de8f"
      },
      "source": [
        "width/2"
      ],
      "execution_count": null,
      "outputs": [
        {
          "output_type": "execute_result",
          "data": {
            "text/plain": [
              "8.5"
            ]
          },
          "metadata": {},
          "execution_count": 3
        }
      ]
    },
    {
      "cell_type": "code",
      "metadata": {
        "colab": {
          "base_uri": "https://localhost:8080/"
        },
        "id": "gI02ANzYpRej",
        "outputId": "c23aa9c5-eafc-4926-cc6c-734f8c147767"
      },
      "source": [
        "width/2.0"
      ],
      "execution_count": null,
      "outputs": [
        {
          "output_type": "execute_result",
          "data": {
            "text/plain": [
              "8.5"
            ]
          },
          "metadata": {},
          "execution_count": 4
        }
      ]
    },
    {
      "cell_type": "code",
      "metadata": {
        "colab": {
          "base_uri": "https://localhost:8080/"
        },
        "id": "Wn3AfV-ZpTSv",
        "outputId": "5bb315d3-e05f-4fd4-e563-a65bfbab6181"
      },
      "source": [
        "height/3"
      ],
      "execution_count": null,
      "outputs": [
        {
          "output_type": "execute_result",
          "data": {
            "text/plain": [
              "4.0"
            ]
          },
          "metadata": {},
          "execution_count": 5
        }
      ]
    },
    {
      "cell_type": "code",
      "metadata": {
        "colab": {
          "base_uri": "https://localhost:8080/"
        },
        "id": "4u2xaG0kpVgE",
        "outputId": "37bcabfb-c329-4bf0-b2f7-3b27e371500d"
      },
      "source": [
        "1 + 2 * 5"
      ],
      "execution_count": null,
      "outputs": [
        {
          "output_type": "execute_result",
          "data": {
            "text/plain": [
              "11"
            ]
          },
          "metadata": {},
          "execution_count": 6
        }
      ]
    },
    {
      "cell_type": "code",
      "metadata": {
        "colab": {
          "base_uri": "https://localhost:8080/",
          "height": 35
        },
        "id": "nDjpmXAGpcVe",
        "outputId": "0c7ecd15-a463-403e-a1de-6b8f4c5ba2c4"
      },
      "source": [
        "delimeter * 5"
      ],
      "execution_count": null,
      "outputs": [
        {
          "output_type": "execute_result",
          "data": {
            "application/vnd.google.colaboratory.intrinsic+json": {
              "type": "string"
            },
            "text/plain": [
              "'.....'"
            ]
          },
          "metadata": {},
          "execution_count": 7
        }
      ]
    },
    {
      "cell_type": "markdown",
      "metadata": {
        "id": "UXOQdrmLpr7R"
      },
      "source": [
        "Exercise 2.3"
      ]
    },
    {
      "cell_type": "markdown",
      "metadata": {
        "id": "6Fm5ZVqlsm7b"
      },
      "source": [
        "Solution 1"
      ]
    },
    {
      "cell_type": "code",
      "metadata": {
        "id": "aFXjDcaspuAO"
      },
      "source": [
        "radius = 5"
      ],
      "execution_count": null,
      "outputs": []
    },
    {
      "cell_type": "code",
      "metadata": {
        "colab": {
          "base_uri": "https://localhost:8080/"
        },
        "id": "k06iXW-Dp8hY",
        "outputId": "86c4c92f-7400-495a-a5a5-b843ab753ca0"
      },
      "source": [
        "(4/3) * (22/7) * radius"
      ],
      "execution_count": null,
      "outputs": [
        {
          "output_type": "execute_result",
          "data": {
            "text/plain": [
              "20.95238095238095"
            ]
          },
          "metadata": {},
          "execution_count": 11
        }
      ]
    },
    {
      "cell_type": "markdown",
      "metadata": {
        "id": "hepQINjcsqkp"
      },
      "source": [
        "Solution 2"
      ]
    },
    {
      "cell_type": "code",
      "metadata": {
        "id": "xvK20R88qKcC"
      },
      "source": [
        "cover = 24.95"
      ],
      "execution_count": null,
      "outputs": []
    },
    {
      "cell_type": "code",
      "metadata": {
        "colab": {
          "base_uri": "https://localhost:8080/"
        },
        "id": "ouf-XydLqRGu",
        "outputId": "41aa726c-d1d4-46f8-edbd-83a365ae755f"
      },
      "source": [
        "cover*60/100 + 3 + 59 * (cover*60/100 + 0.5)"
      ],
      "execution_count": null,
      "outputs": [
        {
          "output_type": "execute_result",
          "data": {
            "text/plain": [
              "930.7"
            ]
          },
          "metadata": {},
          "execution_count": 13
        }
      ]
    },
    {
      "cell_type": "markdown",
      "metadata": {
        "id": "YLmKLwmjstrs"
      },
      "source": [
        "Solution 3"
      ]
    },
    {
      "cell_type": "code",
      "metadata": {
        "colab": {
          "base_uri": "https://localhost:8080/"
        },
        "id": "CfycEjEJq17N",
        "outputId": "af4f88c4-e026-41d2-986f-fd6e829aaf89"
      },
      "source": [
        "minutes_running = (1 * (8*60+15) + 3 * (7*60+12) + 1 * (8*60+15)) / 60"
      ],
      "execution_count": null,
      "outputs": [
        {
          "output_type": "execute_result",
          "data": {
            "text/plain": [
              "38.1"
            ]
          },
          "metadata": {},
          "execution_count": 15
        }
      ]
    },
    {
      "cell_type": "markdown",
      "metadata": {
        "id": "a94jfhCHsDG7"
      },
      "source": [
        "6:52 + 38 mins and 6 seconds"
      ]
    },
    {
      "cell_type": "markdown",
      "metadata": {
        "id": "HbesXevFsIpA"
      },
      "source": [
        "7:30 am "
      ]
    }
  ]
}
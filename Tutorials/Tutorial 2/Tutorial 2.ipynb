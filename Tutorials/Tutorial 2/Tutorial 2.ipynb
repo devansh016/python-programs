{
  "nbformat": 4,
  "nbformat_minor": 0,
  "metadata": {
    "colab": {
      "name": "Tutorial 2.ipynb",
      "provenance": []
    },
    "kernelspec": {
      "name": "python3",
      "display_name": "Python 3"
    },
    "language_info": {
      "name": "python"
    }
  },
  "cells": [
    {
      "cell_type": "markdown",
      "metadata": {
        "id": "BW2xZvqvxE-Y"
      },
      "source": [
        "Enter Value of A and B"
      ]
    },
    {
      "cell_type": "code",
      "metadata": {
        "colab": {
          "base_uri": "https://localhost:8080/"
        },
        "id": "Fy4Xx4hfxIjd",
        "outputId": "349e826a-4aaf-4c8c-e810-8962ba15a74e"
      },
      "source": [
        "a = int(input('Enter value of A: '))\n",
        "b = int(input('Enter value of B: '))"
      ],
      "execution_count": 20,
      "outputs": [
        {
          "output_type": "stream",
          "text": [
            "Enter value of A: 10\n",
            "Enter value of B: 5\n"
          ],
          "name": "stdout"
        }
      ]
    },
    {
      "cell_type": "markdown",
      "metadata": {
        "id": "XrUiIEPOszAr"
      },
      "source": [
        "Python Arithmetic Operators"
      ]
    },
    {
      "cell_type": "code",
      "metadata": {
        "colab": {
          "base_uri": "https://localhost:8080/"
        },
        "id": "_UULwuG2qjFn",
        "outputId": "a0c1595e-8dd3-463a-f0c2-f101bd99d4aa"
      },
      "source": [
        "print('\\nPython Arithmetic Operators')\n",
        "\n",
        "print('\\nAddition Operator')\n",
        "print('A + B =', a+b)\n",
        "\n",
        "print('\\nSubtraction Operator')\n",
        "print('A - B =', a-b)\n",
        "\n",
        "print('\\nMultiplication Operator')\n",
        "print('A * B =', a*b)\n",
        "\n",
        "print('\\nDivision Operator')\n",
        "print('A / B =', a/b)\n",
        "\n",
        "print('\\nModulous Operator')\n",
        "print('A % B =', a%b)\n",
        "\n",
        "print('\\nFloor Division Operator')\n",
        "print('A // B =', a//b)\n",
        "\n",
        "print('\\nExponentiation Operator')\n",
        "print('A ** B =', a**b)"
      ],
      "execution_count": 21,
      "outputs": [
        {
          "output_type": "stream",
          "text": [
            "\n",
            "Python Arithmetic Operators\n",
            "\n",
            "Addition Operator\n",
            "A + B = 15\n",
            "\n",
            "Subtraction Operator\n",
            "A - B = 5\n",
            "\n",
            "Multiplication Operator\n",
            "A * B = 50\n",
            "\n",
            "Division Operator\n",
            "A / B = 2.0\n",
            "\n",
            "Modulous Operator\n",
            "A % B = 0\n",
            "\n",
            "Floor Division Operator\n",
            "A // B = 2\n",
            "\n",
            "Exponentiation Operator\n",
            "A ** B = 100000\n"
          ],
          "name": "stdout"
        }
      ]
    },
    {
      "cell_type": "markdown",
      "metadata": {
        "id": "H0pIP9eZs2qC"
      },
      "source": [
        "Python Comparison Operators"
      ]
    },
    {
      "cell_type": "code",
      "metadata": {
        "colab": {
          "base_uri": "https://localhost:8080/"
        },
        "id": "MxagSjNWs72d",
        "outputId": "057fe2eb-5086-4b99-deb8-63c033332f19"
      },
      "source": [
        "print('\\nPython Comparison Operators')\n",
        "\n",
        "print('\\nEqual Operator')\n",
        "print('A == B :', a==b)\n",
        "\n",
        "print('\\nNot Equal Operator')\n",
        "print('A != B :', a!=b)\n",
        "\n",
        "print('\\nGreater than Operator')\n",
        "print('A > B  :', a>b)\n",
        "\n",
        "print('\\nLess than Operator')\n",
        "print('A < B  :', a<b)\n",
        "\n",
        "print('\\nGreater than or equal to Operator')\n",
        "print('A >= B :', a>=b)\n",
        "\n",
        "print('\\nLess than or equal to Operator')\n",
        "print('A <= B :', a<=b)"
      ],
      "execution_count": 22,
      "outputs": [
        {
          "output_type": "stream",
          "text": [
            "\n",
            "Python Comparison Operators\n",
            "\n",
            "Equal Operator\n",
            "A == B : False\n",
            "\n",
            "Not Equal Operator\n",
            "A != B : True\n",
            "\n",
            "Greater than Operator\n",
            "A > B  : True\n",
            "\n",
            "Less than Operator\n",
            "A < B  : False\n",
            "\n",
            "Greater than or equal to Operator\n",
            "A >= B : True\n",
            "\n",
            "Less than or equal to Operator\n",
            "A <= B : False\n"
          ],
          "name": "stdout"
        }
      ]
    },
    {
      "cell_type": "markdown",
      "metadata": {
        "id": "BNzEBa5at23z"
      },
      "source": [
        "Python Logical Operators"
      ]
    },
    {
      "cell_type": "code",
      "metadata": {
        "colab": {
          "base_uri": "https://localhost:8080/"
        },
        "id": "loFh-9GGt5Sy",
        "outputId": "7302c9ad-1182-4db0-ed7d-5e78495ce3f5"
      },
      "source": [
        "print('\\nPython Logical Operators')\n",
        "\n",
        "print('\\nAnd Operator')\n",
        "print('A<B and A>B :', a<b and a>b )\n",
        "\n",
        "print('\\nOr Operator')\n",
        "print('A<B or A>B :', a<b or a>b)\n",
        "\n",
        "print('\\nNot Operator')\n",
        "print('not(A<B and A>B) :', not(a<b and a>b) )"
      ],
      "execution_count": 23,
      "outputs": [
        {
          "output_type": "stream",
          "text": [
            "\n",
            "Python Logical Operators\n",
            "\n",
            "And Operator\n",
            "A<B and A>B : False\n",
            "\n",
            "Or Operator\n",
            "A<B or A>B : True\n",
            "\n",
            "Not Operator\n",
            "not(A<B and A>B) : True\n"
          ],
          "name": "stdout"
        }
      ]
    },
    {
      "cell_type": "markdown",
      "metadata": {
        "id": "AlwDTtggvKmN"
      },
      "source": [
        "Python Identity Operators"
      ]
    },
    {
      "cell_type": "code",
      "metadata": {
        "colab": {
          "base_uri": "https://localhost:8080/"
        },
        "id": "hH5O0zH0vMNS",
        "outputId": "4387977b-c54e-486e-f303-5ef64495c952"
      },
      "source": [
        "print('\\nPython Identity Operators')\n",
        "\n",
        "print('\\nis Operator')\n",
        "print('A is B :', a is b )\n",
        "\n",
        "print('\\nis not Operator')\n",
        "print('A is not B :', a is not b )"
      ],
      "execution_count": 24,
      "outputs": [
        {
          "output_type": "stream",
          "text": [
            "\n",
            "Python Identity Operators\n",
            "\n",
            "is Operator\n",
            "A is B : False\n",
            "\n",
            "is not Operator\n",
            "A is not B : True\n"
          ],
          "name": "stdout"
        }
      ]
    },
    {
      "cell_type": "markdown",
      "metadata": {
        "id": "mYXVthb7v1g3"
      },
      "source": [
        "Python Bitwise  Operators"
      ]
    },
    {
      "cell_type": "code",
      "metadata": {
        "colab": {
          "base_uri": "https://localhost:8080/"
        },
        "id": "Jb2kOYT4v2pe",
        "outputId": "c12d9945-6eb2-4b88-f262-14576c2482ee"
      },
      "source": [
        "print('\\nPython Bitwise Operators')\n",
        "\n",
        "print('\\nAND Operator')\n",
        "print('A & B =', a&b)\n",
        "\n",
        "print('\\nOR Operator')\n",
        "print('A | B =', a|b)\n",
        "\n",
        "print('\\nXOR Operator')\n",
        "print('A ^ B =', a^b)\n",
        "\n",
        "print('\\nNOT Operator')\n",
        "print('~A =', ~a)\n",
        "\n",
        "print('\\nZero fill left shift Operator')\n",
        "print('A << 2 =', a<<2)\n",
        "\n",
        "print('\\nSigned right shift Operator')\n",
        "print('A >> 2 =', a>>2)\n"
      ],
      "execution_count": 26,
      "outputs": [
        {
          "output_type": "stream",
          "text": [
            "\n",
            "Python Bitwise Operators\n",
            "\n",
            "AND Operator\n",
            "A & B = 0\n",
            "\n",
            "OR Operator\n",
            "A | B = 15\n",
            "\n",
            "XOR Operator\n",
            "A ^ B = 15\n",
            "\n",
            "NOT Operator\n",
            "~A = -11\n",
            "\n",
            "Zero fill left shift Operator\n",
            "A << 2 = 40\n",
            "\n",
            "Signed right shift Operator\n",
            "A >> 2 = 2\n"
          ],
          "name": "stdout"
        }
      ]
    }
  ]
}